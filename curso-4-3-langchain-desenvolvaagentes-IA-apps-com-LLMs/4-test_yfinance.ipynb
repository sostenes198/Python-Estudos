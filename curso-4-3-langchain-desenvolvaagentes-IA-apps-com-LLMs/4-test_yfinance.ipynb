{
 "cells": [
  {
   "cell_type": "code",
   "id": "initial_id",
   "metadata": {
    "collapsed": true,
    "ExecuteTime": {
     "end_time": "2025-07-21T21:23:15.092136Z",
     "start_time": "2025-07-21T21:23:12.715306Z"
    }
   },
   "source": "import yfinance as yf",
   "outputs": [],
   "execution_count": 1
  },
  {
   "metadata": {
    "ExecuteTime": {
     "end_time": "2025-07-21T21:25:11.126379Z",
     "start_time": "2025-07-21T21:25:11.122711Z"
    }
   },
   "cell_type": "code",
   "source": [
    "ticker = \"BBAS3\"\n",
    "period = \"5d\"\n",
    "ticker_obj = yf.Ticker(f\"{ticker}.SA\")"
   ],
   "id": "14788e641ef452e4",
   "outputs": [],
   "execution_count": 4
  },
  {
   "metadata": {
    "ExecuteTime": {
     "end_time": "2025-07-21T21:25:12.331738Z",
     "start_time": "2025-07-21T21:25:12.328032Z"
    }
   },
   "cell_type": "code",
   "source": "ticker_obj",
   "id": "86524bc665c058e8",
   "outputs": [
    {
     "data": {
      "text/plain": [
       "yfinance.Ticker object <BBAS3.SA>"
      ]
     },
     "execution_count": 5,
     "metadata": {},
     "output_type": "execute_result"
    }
   ],
   "execution_count": 5
  },
  {
   "metadata": {
    "ExecuteTime": {
     "end_time": "2025-07-21T21:25:34.115184Z",
     "start_time": "2025-07-21T21:25:31.376411Z"
    }
   },
   "cell_type": "code",
   "source": "ticker_obj.history(period=period)",
   "id": "905ff058acf8e4af",
   "outputs": [
    {
     "data": {
      "text/plain": [
       "                                Open       High        Low      Close  \\\n",
       "Date                                                                    \n",
       "2025-07-15 00:00:00-03:00  20.750000  21.059999  20.709999  20.900000   \n",
       "2025-07-16 00:00:00-03:00  20.990000  20.990000  20.170000  20.879999   \n",
       "2025-07-17 00:00:00-03:00  20.840000  20.900000  20.580000  20.740000   \n",
       "2025-07-18 00:00:00-03:00  20.600000  20.820000  20.200001  20.260000   \n",
       "2025-07-21 00:00:00-03:00  20.360001  20.410000  19.860001  19.860001   \n",
       "\n",
       "                             Volume  Dividends  Stock Splits  \n",
       "Date                                                          \n",
       "2025-07-15 00:00:00-03:00  30999200        0.0           0.0  \n",
       "2025-07-16 00:00:00-03:00  55147900        0.0           0.0  \n",
       "2025-07-17 00:00:00-03:00  28673400        0.0           0.0  \n",
       "2025-07-18 00:00:00-03:00  42591900        0.0           0.0  \n",
       "2025-07-21 00:00:00-03:00  42143000        0.0           0.0  "
      ],
      "text/html": [
       "<div>\n",
       "<style scoped>\n",
       "    .dataframe tbody tr th:only-of-type {\n",
       "        vertical-align: middle;\n",
       "    }\n",
       "\n",
       "    .dataframe tbody tr th {\n",
       "        vertical-align: top;\n",
       "    }\n",
       "\n",
       "    .dataframe thead th {\n",
       "        text-align: right;\n",
       "    }\n",
       "</style>\n",
       "<table border=\"1\" class=\"dataframe\">\n",
       "  <thead>\n",
       "    <tr style=\"text-align: right;\">\n",
       "      <th></th>\n",
       "      <th>Open</th>\n",
       "      <th>High</th>\n",
       "      <th>Low</th>\n",
       "      <th>Close</th>\n",
       "      <th>Volume</th>\n",
       "      <th>Dividends</th>\n",
       "      <th>Stock Splits</th>\n",
       "    </tr>\n",
       "    <tr>\n",
       "      <th>Date</th>\n",
       "      <th></th>\n",
       "      <th></th>\n",
       "      <th></th>\n",
       "      <th></th>\n",
       "      <th></th>\n",
       "      <th></th>\n",
       "      <th></th>\n",
       "    </tr>\n",
       "  </thead>\n",
       "  <tbody>\n",
       "    <tr>\n",
       "      <th>2025-07-15 00:00:00-03:00</th>\n",
       "      <td>20.750000</td>\n",
       "      <td>21.059999</td>\n",
       "      <td>20.709999</td>\n",
       "      <td>20.900000</td>\n",
       "      <td>30999200</td>\n",
       "      <td>0.0</td>\n",
       "      <td>0.0</td>\n",
       "    </tr>\n",
       "    <tr>\n",
       "      <th>2025-07-16 00:00:00-03:00</th>\n",
       "      <td>20.990000</td>\n",
       "      <td>20.990000</td>\n",
       "      <td>20.170000</td>\n",
       "      <td>20.879999</td>\n",
       "      <td>55147900</td>\n",
       "      <td>0.0</td>\n",
       "      <td>0.0</td>\n",
       "    </tr>\n",
       "    <tr>\n",
       "      <th>2025-07-17 00:00:00-03:00</th>\n",
       "      <td>20.840000</td>\n",
       "      <td>20.900000</td>\n",
       "      <td>20.580000</td>\n",
       "      <td>20.740000</td>\n",
       "      <td>28673400</td>\n",
       "      <td>0.0</td>\n",
       "      <td>0.0</td>\n",
       "    </tr>\n",
       "    <tr>\n",
       "      <th>2025-07-18 00:00:00-03:00</th>\n",
       "      <td>20.600000</td>\n",
       "      <td>20.820000</td>\n",
       "      <td>20.200001</td>\n",
       "      <td>20.260000</td>\n",
       "      <td>42591900</td>\n",
       "      <td>0.0</td>\n",
       "      <td>0.0</td>\n",
       "    </tr>\n",
       "    <tr>\n",
       "      <th>2025-07-21 00:00:00-03:00</th>\n",
       "      <td>20.360001</td>\n",
       "      <td>20.410000</td>\n",
       "      <td>19.860001</td>\n",
       "      <td>19.860001</td>\n",
       "      <td>42143000</td>\n",
       "      <td>0.0</td>\n",
       "      <td>0.0</td>\n",
       "    </tr>\n",
       "  </tbody>\n",
       "</table>\n",
       "</div>"
      ]
     },
     "execution_count": 6,
     "metadata": {},
     "output_type": "execute_result"
    }
   ],
   "execution_count": 6
  },
  {
   "metadata": {
    "ExecuteTime": {
     "end_time": "2025-07-21T21:30:27.611623Z",
     "start_time": "2025-07-21T21:30:27.607941Z"
    }
   },
   "cell_type": "code",
   "source": [
    "def return_price(ticker, period=\"1mo\"):\n",
    "    ticker_obj = yf.Ticker(f\"{ticker}.SA\")\n",
    "    hist = ticker_obj.history(period=period)[\"Close\"]\n",
    "    hist.index = hist.index.strftime(\"%Y-%m-%d\")\n",
    "    hist = round(hist, 2)\n",
    "\n",
    "    if len(hist) > 30:\n",
    "        slice_size = int(len(hist) / 30)\n",
    "        hist = hist.iloc[::-slice_size][::-1]\n",
    "\n",
    "    return hist.to_json()"
   ],
   "id": "4ac3ad3446f99959",
   "outputs": [],
   "execution_count": 14
  },
  {
   "metadata": {
    "ExecuteTime": {
     "end_time": "2025-07-21T21:30:32.636789Z",
     "start_time": "2025-07-21T21:30:32.439281Z"
    }
   },
   "cell_type": "code",
   "source": "return_price(\"BBDC4\", \"1y\")",
   "id": "20fdacf710a88287",
   "outputs": [
    {
     "data": {
      "text/plain": [
       "'{\"2024-07-22\":11.52,\"2024-08-01\":11.48,\"2024-08-13\":13.59,\"2024-08-23\":14.3,\"2024-09-04\":14.51,\"2024-09-16\":14.11,\"2024-09-26\":13.54,\"2024-10-08\":14.12,\"2024-10-18\":14.22,\"2024-10-30\":13.95,\"2024-11-11\":12.51,\"2024-11-25\":12.64,\"2024-12-05\":11.74,\"2024-12-17\":11.16,\"2025-01-02\":10.89,\"2025-01-14\":10.93,\"2025-01-24\":10.81,\"2025-02-05\":11.79,\"2025-02-17\":11.7,\"2025-02-27\":10.99,\"2025-03-13\":11.18,\"2025-03-25\":12.34,\"2025-04-04\":12.3,\"2025-04-16\":12.45,\"2025-04-30\":13.44,\"2025-05-13\":14.92,\"2025-05-23\":15.33,\"2025-06-04\":16.14,\"2025-06-16\":16.33,\"2025-06-27\":16.26,\"2025-07-09\":16.36,\"2025-07-21\":15.68}'"
      ]
     },
     "execution_count": 15,
     "metadata": {},
     "output_type": "execute_result"
    }
   ],
   "execution_count": 15
  }
 ],
 "metadata": {
  "kernelspec": {
   "display_name": "Python 3",
   "language": "python",
   "name": "python3"
  },
  "language_info": {
   "codemirror_mode": {
    "name": "ipython",
    "version": 2
   },
   "file_extension": ".py",
   "mimetype": "text/x-python",
   "name": "python",
   "nbconvert_exporter": "python",
   "pygments_lexer": "ipython2",
   "version": "2.7.6"
  }
 },
 "nbformat": 4,
 "nbformat_minor": 5
}
