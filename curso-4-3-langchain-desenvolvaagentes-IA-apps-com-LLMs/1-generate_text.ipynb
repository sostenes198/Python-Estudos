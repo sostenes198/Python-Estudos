{
 "cells": [
  {
   "metadata": {
    "collapsed": true,
    "ExecuteTime": {
     "end_time": "2025-07-14T22:42:14.647113Z",
     "start_time": "2025-07-14T22:42:14.630730Z"
    }
   },
   "cell_type": "code",
   "outputs": [],
   "execution_count": 3,
   "source": [
    "import openai\n",
    "import dotenv\n",
    "\n",
    "from program import content"
   ],
   "id": "initial_id"
  },
  {
   "metadata": {
    "ExecuteTime": {
     "end_time": "2025-07-14T22:44:15.744454Z",
     "start_time": "2025-07-14T22:44:15.731434Z"
    }
   },
   "cell_type": "code",
   "source": "dotenv.load_dotenv()",
   "id": "db7729abaf8550ca",
   "outputs": [
    {
     "data": {
      "text/plain": [
       "True"
      ]
     },
     "execution_count": 5,
     "metadata": {},
     "output_type": "execute_result"
    }
   ],
   "execution_count": 5
  },
  {
   "metadata": {
    "ExecuteTime": {
     "end_time": "2025-07-14T22:44:17.441105Z",
     "start_time": "2025-07-14T22:44:17.225071Z"
    }
   },
   "cell_type": "code",
   "source": "client = openai.Client()",
   "id": "71b6797ab0ca453d",
   "outputs": [],
   "execution_count": 6
  },
  {
   "metadata": {},
   "cell_type": "markdown",
   "source": [
    "### Fluxo de Conversa\n",
    "- User: Usuário inicia a conversa\n",
    "- Assistant: Bot que responde a pergunta"
   ],
   "id": "c737ad8d30588eda"
  },
  {
   "metadata": {
    "ExecuteTime": {
     "end_time": "2025-07-14T22:46:08.626842Z",
     "start_time": "2025-07-14T22:46:08.623783Z"
    }
   },
   "cell_type": "code",
   "source": "messages = [{\"role\": \"user\", \"content\": \"Defina uma laranja em 5 palavras\"}]",
   "id": "2a03e8a7a07f6468",
   "outputs": [],
   "execution_count": 7
  },
  {
   "metadata": {
    "ExecuteTime": {
     "end_time": "2025-07-14T22:48:01.981275Z",
     "start_time": "2025-07-14T22:48:00.756515Z"
    }
   },
   "cell_type": "code",
   "source": [
    "answer = client.chat.completions.create(\n",
    "    messages=messages,\n",
    "    model=\"gpt-3.5-turbo-1106\",\n",
    "    max_tokens=1000,\n",
    "    temperature=0)"
   ],
   "id": "56948ebf3c67328",
   "outputs": [],
   "execution_count": 8
  },
  {
   "metadata": {
    "ExecuteTime": {
     "end_time": "2025-07-14T22:48:15.886529Z",
     "start_time": "2025-07-14T22:48:15.882520Z"
    }
   },
   "cell_type": "code",
   "source": "answer",
   "id": "39eb90e760c5fc0c",
   "outputs": [
    {
     "data": {
      "text/plain": [
       "ChatCompletion(id='chatcmpl-BtMFkQZ5clC9v7kDxEWp31TiqbS0Z', choices=[Choice(finish_reason='stop', index=0, logprobs=None, message=ChatCompletionMessage(content='Fruta cítrica suculenta e saborosa.', refusal=None, role='assistant', annotations=[], audio=None, function_call=None, tool_calls=None))], created=1752533280, model='gpt-3.5-turbo-1106', object='chat.completion', service_tier='default', system_fingerprint='fp_982035f36f', usage=CompletionUsage(completion_tokens=14, prompt_tokens=18, total_tokens=32, completion_tokens_details=CompletionTokensDetails(accepted_prediction_tokens=0, audio_tokens=0, reasoning_tokens=0, rejected_prediction_tokens=0), prompt_tokens_details=PromptTokensDetails(audio_tokens=0, cached_tokens=0)))"
      ]
     },
     "execution_count": 9,
     "metadata": {},
     "output_type": "execute_result"
    }
   ],
   "execution_count": 9
  },
  {
   "metadata": {
    "ExecuteTime": {
     "end_time": "2025-07-14T22:50:09.259065Z",
     "start_time": "2025-07-14T22:50:09.256225Z"
    }
   },
   "cell_type": "code",
   "source": "answer.choices[0].message.content",
   "id": "c867691886f56307",
   "outputs": [],
   "execution_count": 11
  },
  {
   "metadata": {
    "ExecuteTime": {
     "end_time": "2025-07-14T22:50:15.936819Z",
     "start_time": "2025-07-14T22:50:15.932936Z"
    }
   },
   "cell_type": "code",
   "source": [
    "answerContent = answer.choices[0].message.content\n",
    "messages.append({\"role\": \"assistant\", \"content\": answerContent})"
   ],
   "id": "52b734698dd0d26",
   "outputs": [],
   "execution_count": 12
  },
  {
   "metadata": {
    "ExecuteTime": {
     "end_time": "2025-07-14T22:51:01.147432Z",
     "start_time": "2025-07-14T22:51:01.144864Z"
    }
   },
   "cell_type": "code",
   "source": "messages.append({\"role\": \"user\", \"content\": \"E qual a sua cor?\"})\n",
   "id": "e4f848db70a71a27",
   "outputs": [],
   "execution_count": 13
  },
  {
   "metadata": {
    "ExecuteTime": {
     "end_time": "2025-07-14T22:51:22.897203Z",
     "start_time": "2025-07-14T22:51:20.916699Z"
    }
   },
   "cell_type": "code",
   "source": [
    "answer = client.chat.completions.create(\n",
    "    messages=messages,\n",
    "    model=\"gpt-3.5-turbo-1106\",\n",
    "    max_tokens=1000,\n",
    "    temperature=0)"
   ],
   "id": "5f204f4b4c902402",
   "outputs": [],
   "execution_count": 14
  },
  {
   "metadata": {
    "ExecuteTime": {
     "end_time": "2025-07-14T22:51:24.521520Z",
     "start_time": "2025-07-14T22:51:24.517199Z"
    }
   },
   "cell_type": "code",
   "source": "answer.choices[0].message.content",
   "id": "ead7bc78ca60ddee",
   "outputs": [
    {
     "data": {
      "text/plain": [
       "'A cor da laranja é laranja.'"
      ]
     },
     "execution_count": 15,
     "metadata": {},
     "output_type": "execute_result"
    }
   ],
   "execution_count": 15
  },
  {
   "metadata": {},
   "cell_type": "code",
   "outputs": [],
   "execution_count": null,
   "source": [
    "answerContent = answer.choices[0].message.content\n",
    "messages.append({\"role\": \"assistant\", \"content\": answerContent})"
   ],
   "id": "6ce2f1474e91268d"
  },
  {
   "metadata": {},
   "cell_type": "markdown",
   "source": "# Utilizando função",
   "id": "3ee1b93520a3ba6b"
  },
  {
   "metadata": {
    "ExecuteTime": {
     "end_time": "2025-07-14T22:55:16.288196Z",
     "start_time": "2025-07-14T22:55:16.284590Z"
    }
   },
   "cell_type": "code",
   "source": [
    "def text_generator(messages,\n",
    "                   model=\"gpt-3.5-turbo-1106\",\n",
    "                   max_tokens=1000,\n",
    "                   temperature=0):\n",
    "    answer_openAi = client.chat.completions.create(\n",
    "        messages=messages,\n",
    "        model=model,\n",
    "        max_tokens=max_tokens,\n",
    "        temperature=temperature\n",
    "    )\n",
    "    messages.append({\"role\": \"assistant\", \"content\": answer_openAi.choices[0].message.content})\n",
    "    return messages"
   ],
   "id": "2e51a6484be5f602",
   "outputs": [],
   "execution_count": 16
  },
  {
   "metadata": {
    "ExecuteTime": {
     "end_time": "2025-07-14T22:55:58.269552Z",
     "start_time": "2025-07-14T22:55:57.448322Z"
    }
   },
   "cell_type": "code",
   "source": [
    "msg1 = [{\"role\": \"user\", \"content\": \"Define oque é api em 5 palavras\"}]\n",
    "messages = text_generator(msg1)"
   ],
   "id": "87279d57fa944a10",
   "outputs": [],
   "execution_count": 17
  },
  {
   "metadata": {
    "ExecuteTime": {
     "end_time": "2025-07-14T22:55:59.462210Z",
     "start_time": "2025-07-14T22:55:59.458273Z"
    }
   },
   "cell_type": "code",
   "source": "messages",
   "id": "112562a95adb51c3",
   "outputs": [
    {
     "data": {
      "text/plain": [
       "[{'role': 'user', 'content': 'Define oque é api em 5 palavras'},\n",
       " {'role': 'assistant', 'content': 'Interface de programação de aplicativos.'}]"
      ]
     },
     "execution_count": 18,
     "metadata": {},
     "output_type": "execute_result"
    }
   ],
   "execution_count": 18
  },
  {
   "metadata": {},
   "cell_type": "markdown",
   "source": "# Utilizando Stream",
   "id": "ce413d0d76eef8ab"
  },
  {
   "metadata": {
    "ExecuteTime": {
     "end_time": "2025-07-14T22:57:35.747817Z",
     "start_time": "2025-07-14T22:57:34.816535Z"
    }
   },
   "cell_type": "code",
   "source": [
    "message = [{\"role\": \"user\", \"content\": \"Conte uma história simples e objetiva sobre LLM\"}]\n",
    "answer = client.chat.completions.create(\n",
    "    messages=message,\n",
    "    model=\"gpt-3.5-turbo-1106\",\n",
    "    max_tokens=1000,\n",
    "    temperature=0,\n",
    "    stream=True\n",
    ")"
   ],
   "id": "d5130235ac63fd18",
   "outputs": [],
   "execution_count": 19
  },
  {
   "metadata": {
    "ExecuteTime": {
     "end_time": "2025-07-14T22:57:42.941272Z",
     "start_time": "2025-07-14T22:57:42.937469Z"
    }
   },
   "cell_type": "code",
   "source": "answer",
   "id": "745fe7c86e04aff",
   "outputs": [
    {
     "data": {
      "text/plain": [
       "<openai.Stream at 0x1a02e85fb60>"
      ]
     },
     "execution_count": 20,
     "metadata": {},
     "output_type": "execute_result"
    }
   ],
   "execution_count": 20
  },
  {
   "metadata": {
    "ExecuteTime": {
     "end_time": "2025-07-14T22:59:12.577664Z",
     "start_time": "2025-07-14T22:59:12.538758Z"
    }
   },
   "cell_type": "code",
   "source": [
    "for answer_stream in answer:\n",
    "    text = answer_stream.choices[0].delta.content\n",
    "    if text:\n",
    "        print(text, end=\"\")"
   ],
   "id": "cb8e7de42fb8aae",
   "outputs": [
    {
     "name": "stdout",
     "output_type": "stream",
     "text": [
      "LLM era um jovem talentoso e determinado que sonhava em se tornar um advogado de sucesso. Ele estudou com afinco, se dedicou aos estudos e se formou com excelentes notas na faculdade de direito. Logo após a formatura, LLM conseguiu um estágio em um renomado escritório de advocacia, onde mostrou seu potencial e foi contratado como advogado júnior.\n",
      "\n",
      "Com o passar do tempo, LLM se destacou em seu trabalho, conquistando a confiança de seus clientes e colegas de trabalho. Sua determinação e habilidades o levaram a ser promovido a sócio do escritório, alcançando o sucesso que tanto almejava.\n",
      "\n",
      "LLM se tornou um advogado respeitado e admirado, sempre buscando a justiça e defendendo os direitos de seus clientes. Sua história inspirou muitos jovens a seguirem seus passos e acreditarem em seus sonhos. Ele provou que com dedicação e esforço, é possível alcançar o sucesso na carreira jurídica."
     ]
    }
   ],
   "execution_count": 21
  }
 ],
 "metadata": {
  "kernelspec": {
   "display_name": "Python 3",
   "language": "python",
   "name": "python3"
  },
  "language_info": {
   "codemirror_mode": {
    "name": "ipython",
    "version": 2
   },
   "file_extension": ".py",
   "mimetype": "text/x-python",
   "name": "python",
   "nbconvert_exporter": "python",
   "pygments_lexer": "ipython2",
   "version": "2.7.6"
  }
 },
 "nbformat": 4,
 "nbformat_minor": 5
}
