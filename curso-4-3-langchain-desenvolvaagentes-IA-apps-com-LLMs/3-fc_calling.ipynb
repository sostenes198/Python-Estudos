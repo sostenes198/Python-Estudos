{
 "cells": [
  {
   "cell_type": "code",
   "id": "initial_id",
   "metadata": {
    "collapsed": true,
    "ExecuteTime": {
     "end_time": "2025-07-16T21:49:26.512373Z",
     "start_time": "2025-07-16T21:49:26.504892Z"
    }
   },
   "source": [
    "import json\n",
    "import openai\n",
    "import dotenv"
   ],
   "outputs": [],
   "execution_count": 2
  },
  {
   "metadata": {
    "ExecuteTime": {
     "end_time": "2025-07-16T21:49:27.717712Z",
     "start_time": "2025-07-16T21:49:27.506964Z"
    }
   },
   "cell_type": "code",
   "source": [
    "dotenv.load_dotenv()\n",
    "\n",
    "client = openai.Client()"
   ],
   "id": "133546e71763d158",
   "outputs": [],
   "execution_count": 3
  },
  {
   "metadata": {
    "ExecuteTime": {
     "end_time": "2025-07-16T21:51:07.557453Z",
     "start_time": "2025-07-16T21:51:07.553816Z"
    }
   },
   "cell_type": "code",
   "source": [
    "def greeting_by_period(hour):\n",
    "    if 5 <= 5 < 12:\n",
    "        return json.dumps({\"greeting\": \"Good morning\"})\n",
    "    elif 12 <= hour < 18:\n",
    "        return json.dumps({\"greeting\": \"Good afternoon\"})\n",
    "    elif 18 <= hour < 22:\n",
    "        return json.dumps({\"greeting\": \"Good afternoon\"})\n",
    "    else:\n",
    "        return json.dumps({\"greeting\": \"Good night\"})"
   ],
   "id": "60e4b3f3c52a9ce1",
   "outputs": [],
   "execution_count": 4
  },
  {
   "metadata": {
    "ExecuteTime": {
     "end_time": "2025-07-16T21:57:52.363963Z",
     "start_time": "2025-07-16T21:57:52.360451Z"
    }
   },
   "cell_type": "code",
   "source": [
    "tools = [\n",
    "    {\n",
    "        \"type\": \"function\",\n",
    "        \"function\": {\n",
    "            \"name\": \"greeting_by_period\",\n",
    "            \"description\": \"Return greeting by day hour\",\n",
    "            \"parameters\": {\n",
    "                \"type\": \"object\",\n",
    "                \"properties\": {\n",
    "                    \"hour\": {\n",
    "                        \"type\": \"integer\",\n",
    "                        \"description\": \"Day hour in twenty four hours\"\n",
    "                    },\n",
    "                },\n",
    "                \"required\": [\"hour\"]\n",
    "            }\n",
    "        }\n",
    "    }\n",
    "]\n",
    "\n",
    "available_functions = {\n",
    "    \"greeting_by_period\": greeting_by_period,\n",
    "}"
   ],
   "id": "893b5f535bb77d0f",
   "outputs": [],
   "execution_count": 15
  },
  {
   "metadata": {
    "ExecuteTime": {
     "end_time": "2025-07-16T22:14:43.396583Z",
     "start_time": "2025-07-16T22:14:43.393908Z"
    }
   },
   "cell_type": "code",
   "source": "messages = [{\"role\": \"user\", \"content\": \"What greeting does the model give me if it is 23 o'clock\"}]",
   "id": "674cc1a7a1352841",
   "outputs": [],
   "execution_count": 52
  },
  {
   "metadata": {
    "ExecuteTime": {
     "end_time": "2025-07-16T22:14:45.890174Z",
     "start_time": "2025-07-16T22:14:45.055349Z"
    }
   },
   "cell_type": "code",
   "source": [
    "answer = client.chat.completions.create(\n",
    "    model=\"gpt-3.5-turbo-0125\",\n",
    "    messages=messages,\n",
    "    tools=tools,\n",
    "    tool_choice=\"auto\"\n",
    ")\n",
    "\n",
    "answer_message = answer.choices[0].message\n",
    "tool_calls = answer_message.tool_calls"
   ],
   "id": "a5c88264280e9498",
   "outputs": [],
   "execution_count": 53
  },
  {
   "metadata": {
    "ExecuteTime": {
     "end_time": "2025-07-16T22:14:47.597734Z",
     "start_time": "2025-07-16T22:14:47.594002Z"
    }
   },
   "cell_type": "code",
   "source": "answer_message",
   "id": "347c4c3d6d8e7599",
   "outputs": [
    {
     "data": {
      "text/plain": [
       "ChatCompletionMessage(content=None, refusal=None, role='assistant', annotations=[], audio=None, function_call=None, tool_calls=[ChatCompletionMessageToolCall(id='call_GibCoLe8whSruqNTtyu91Oeb', function=Function(arguments='{\"hour\":23}', name='greeting_by_period'), type='function')])"
      ]
     },
     "execution_count": 54,
     "metadata": {},
     "output_type": "execute_result"
    }
   ],
   "execution_count": 54
  },
  {
   "metadata": {
    "ExecuteTime": {
     "end_time": "2025-07-16T22:14:49.409241Z",
     "start_time": "2025-07-16T22:14:49.405468Z"
    }
   },
   "cell_type": "code",
   "source": "tool_calls",
   "id": "f60ad6dad940932b",
   "outputs": [
    {
     "data": {
      "text/plain": [
       "[ChatCompletionMessageToolCall(id='call_GibCoLe8whSruqNTtyu91Oeb', function=Function(arguments='{\"hour\":23}', name='greeting_by_period'), type='function')]"
      ]
     },
     "execution_count": 55,
     "metadata": {},
     "output_type": "execute_result"
    }
   ],
   "execution_count": 55
  },
  {
   "metadata": {
    "ExecuteTime": {
     "end_time": "2025-07-16T22:14:51.040793Z",
     "start_time": "2025-07-16T22:14:50.334441Z"
    }
   },
   "cell_type": "code",
   "source": [
    "if tool_calls:\n",
    "    messages.append(answer_message)\n",
    "    for tool_call in tool_calls:\n",
    "        function_name = tool_call.function.name\n",
    "        function_to_call = available_functions[function_name]\n",
    "        function_args = json.loads(tool_call.function.arguments)\n",
    "        function_response = function_to_call(hour=function_args.get(\"hour\"))\n",
    "\n",
    "        messages.append({\n",
    "            \"role\": \"tool\",\n",
    "            \"tool_call_id\": tool_call.id,\n",
    "            \"name\": function_name,\n",
    "            \"content\": function_response\n",
    "        }\n",
    "        )\n",
    "\n",
    "    second_answer = client.chat.completions.create(\n",
    "        model=\"gpt-3.5-turbo-0125\",\n",
    "        messages=messages,\n",
    "    )"
   ],
   "id": "1e744b33161ff1e4",
   "outputs": [],
   "execution_count": 56
  },
  {
   "metadata": {
    "ExecuteTime": {
     "end_time": "2025-07-16T22:14:57.276145Z",
     "start_time": "2025-07-16T22:14:57.272470Z"
    }
   },
   "cell_type": "code",
   "source": "second_answer.choices[0].message",
   "id": "95f67c114bf5b524",
   "outputs": [
    {
     "data": {
      "text/plain": [
       "ChatCompletionMessage(content='The model would give you a \"Good morning\" greeting if it is 23 o\\'clock.', refusal=None, role='assistant', annotations=[], audio=None, function_call=None, tool_calls=None)"
      ]
     },
     "execution_count": 57,
     "metadata": {},
     "output_type": "execute_result"
    }
   ],
   "execution_count": 57
  }
 ],
 "metadata": {
  "kernelspec": {
   "display_name": "Python 3",
   "language": "python",
   "name": "python3"
  },
  "language_info": {
   "codemirror_mode": {
    "name": "ipython",
    "version": 2
   },
   "file_extension": ".py",
   "mimetype": "text/x-python",
   "name": "python",
   "nbconvert_exporter": "python",
   "pygments_lexer": "ipython2",
   "version": "2.7.6"
  }
 },
 "nbformat": 4,
 "nbformat_minor": 5
}
