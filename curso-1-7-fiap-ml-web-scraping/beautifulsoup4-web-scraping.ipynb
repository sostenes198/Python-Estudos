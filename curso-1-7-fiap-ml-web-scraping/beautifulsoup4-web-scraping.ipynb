{
 "cells": [
  {
   "cell_type": "code",
   "id": "initial_id",
   "metadata": {
    "collapsed": true,
    "ExecuteTime": {
     "end_time": "2025-09-09T10:24:02.044915Z",
     "start_time": "2025-09-09T10:24:02.036241Z"
    }
   },
   "source": [
    "import requests\n",
    "from bs4 import BeautifulSoup\n",
    "import pandas as pd\n",
    "from fake_useragent import UserAgent"
   ],
   "outputs": [],
   "execution_count": 2
  },
  {
   "metadata": {
    "ExecuteTime": {
     "end_time": "2025-09-09T10:24:22.297291Z",
     "start_time": "2025-09-09T10:24:22.262436Z"
    }
   },
   "cell_type": "code",
   "source": [
    "# Gera um User-Agent aleatório\n",
    "ua = UserAgent()\n",
    "headers = {\n",
    "    'User-Agent': ua.random,\n",
    "}\n",
    "\n",
    "headers"
   ],
   "id": "258d7af908a8ed9a",
   "outputs": [
    {
     "data": {
      "text/plain": [
       "{'User-Agent': 'Mozilla/5.0 (Windows NT 10.0; Win64; x64) AppleWebKit/537.36 (KHTML, like Gecko) Chrome/132.0.0.0 Safari/537.36 OPR/117.0.0.0'}"
      ]
     },
     "execution_count": 6,
     "metadata": {},
     "output_type": "execute_result"
    }
   ],
   "execution_count": 6
  },
  {
   "metadata": {
    "ExecuteTime": {
     "end_time": "2025-09-09T10:24:56.542366Z",
     "start_time": "2025-09-09T10:24:55.748986Z"
    }
   },
   "cell_type": "code",
   "source": [
    "# URL de exemplo (site público para treinar scraping)\n",
    "url = \"https://quotes.toscrape.com/\"\n",
    "\n",
    "# Faz a requisição com user-agent falso\n",
    "response = requests.get(url, headers=headers)\n",
    "\n",
    "if response.status_code == 200:\n",
    "    # Parse do HTML com BeautifulSoup\n",
    "    soup = BeautifulSoup(response.text, \"html.parser\")\n",
    "\n",
    "    # Extrair as citações da página\n",
    "    quotes = soup.find_all(\"span\", class_=\"text\")\n",
    "\n",
    "    print(\"📜 Citações encontradas:\")\n",
    "    for idx, quote in enumerate(quotes, start=1):\n",
    "        print(f\"{idx}. {quote.get_text()}\")\n",
    "else:\n",
    "    print(f\"Erro ao acessar a página: {response.status_code}\")"
   ],
   "id": "f6e48c63f4384b77",
   "outputs": [
    {
     "name": "stdout",
     "output_type": "stream",
     "text": [
      "📜 Citações encontradas:\n",
      "1. “The world as we have created it is a process of our thinking. It cannot be changed without changing our thinking.”\n",
      "2. “It is our choices, Harry, that show what we truly are, far more than our abilities.”\n",
      "3. “There are only two ways to live your life. One is as though nothing is a miracle. The other is as though everything is a miracle.”\n",
      "4. “The person, be it gentleman or lady, who has not pleasure in a good novel, must be intolerably stupid.”\n",
      "5. “Imperfection is beauty, madness is genius and it's better to be absolutely ridiculous than absolutely boring.”\n",
      "6. “Try not to become a man of success. Rather become a man of value.”\n",
      "7. “It is better to be hated for what you are than to be loved for what you are not.”\n",
      "8. “I have not failed. I've just found 10,000 ways that won't work.”\n",
      "9. “A woman is like a tea bag; you never know how strong it is until it's in hot water.”\n",
      "10. “A day without sunshine is like, you know, night.”\n"
     ]
    }
   ],
   "execution_count": 7
  }
 ],
 "metadata": {
  "kernelspec": {
   "display_name": "Python 3",
   "language": "python",
   "name": "python3"
  },
  "language_info": {
   "codemirror_mode": {
    "name": "ipython",
    "version": 2
   },
   "file_extension": ".py",
   "mimetype": "text/x-python",
   "name": "python",
   "nbconvert_exporter": "python",
   "pygments_lexer": "ipython2",
   "version": "2.7.6"
  }
 },
 "nbformat": 4,
 "nbformat_minor": 5
}
