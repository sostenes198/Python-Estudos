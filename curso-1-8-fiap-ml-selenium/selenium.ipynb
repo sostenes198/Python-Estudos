{
 "cells": [
  {
   "cell_type": "code",
   "id": "initial_id",
   "metadata": {
    "collapsed": true,
    "ExecuteTime": {
     "end_time": "2025-09-12T14:01:07.903762Z",
     "start_time": "2025-09-12T14:01:07.893219Z"
    }
   },
   "source": [
    "from selenium import webdriver\n",
    "from selenium.webdriver.chrome.service import Service\n",
    "from selenium.webdriver.chrome.options import Options\n",
    "from selenium.webdriver.common.by import By\n",
    "from webdriver_manager.chrome import ChromeDriverManager\n",
    "import time"
   ],
   "outputs": [],
   "execution_count": 11
  },
  {
   "metadata": {
    "ExecuteTime": {
     "end_time": "2025-09-12T14:03:44.357539Z",
     "start_time": "2025-09-12T14:03:44.353843Z"
    }
   },
   "cell_type": "code",
   "source": [
    "chrome_options = Options()\n",
    "# chrome_options.add_argument(\"--headless\")  # Executar no modo headless (sem interface gráfica)\n",
    "chrome_options.add_argument(\"--no-sandbox\")\n",
    "chrome_options.add_argument(\"--disable-dev-shm-usage\")"
   ],
   "id": "9005fdd63913b2d2",
   "outputs": [],
   "execution_count": 14
  },
  {
   "metadata": {
    "ExecuteTime": {
     "end_time": "2025-09-12T14:04:54.483191Z",
     "start_time": "2025-09-12T14:04:53.127112Z"
    }
   },
   "cell_type": "code",
   "source": "service = Service(ChromeDriverManager().install())",
   "id": "436bb35e4ae09d7c",
   "outputs": [],
   "execution_count": 18
  },
  {
   "metadata": {
    "ExecuteTime": {
     "end_time": "2025-09-12T14:05:04.033531Z",
     "start_time": "2025-09-12T14:04:54.963103Z"
    }
   },
   "cell_type": "code",
   "source": [
    "driver = webdriver.Chrome(service=service, options=chrome_options)\n",
    "\n",
    "driver.get(\"https://www.google.com\")\n",
    "\n",
    "search_box = driver.find_element(By.NAME, \"q\")\n",
    "\n",
    "search_query = 'Post Tech FIAP'\n",
    "search_box.send_keys(search_query)\n",
    "search_box.submit()\n",
    "\n",
    "time.sleep(3)\n",
    "\n",
    "titles = driver.find_elements(By.TAG_NAME, \"title\")\n",
    "print(f\"Resultados para a pesquisa: '{search_query}'\\n\")\n",
    "for idx, title in enumerate(titles, start=1):\n",
    "    print(f\"{idx}. {title.text}\")\n",
    "\n",
    "driver.quit()"
   ],
   "id": "b8f518fce0767000",
   "outputs": [
    {
     "name": "stdout",
     "output_type": "stream",
     "text": [
      "Resultados para a pesquisa: 'Post Tech FIAP'\n",
      "\n",
      "1. \n"
     ]
    }
   ],
   "execution_count": 19
  }
 ],
 "metadata": {
  "kernelspec": {
   "display_name": "Python 3",
   "language": "python",
   "name": "python3"
  },
  "language_info": {
   "codemirror_mode": {
    "name": "ipython",
    "version": 2
   },
   "file_extension": ".py",
   "mimetype": "text/x-python",
   "name": "python",
   "nbconvert_exporter": "python",
   "pygments_lexer": "ipython2",
   "version": "2.7.6"
  }
 },
 "nbformat": 4,
 "nbformat_minor": 5
}
