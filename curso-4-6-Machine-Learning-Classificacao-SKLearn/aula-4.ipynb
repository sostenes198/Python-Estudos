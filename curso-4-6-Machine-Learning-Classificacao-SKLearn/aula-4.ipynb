{
 "cells": [
  {
   "cell_type": "code",
   "id": "initial_id",
   "metadata": {
    "collapsed": true,
    "ExecuteTime": {
     "end_time": "2025-08-30T14:10:00.350505Z",
     "start_time": "2025-08-30T14:10:00.334505Z"
    }
   },
   "source": [
    "from datetime import datetime\n",
    "\n",
    "import pandas as pd\n",
    "import graphviz\n",
    "\n",
    "from sklearn.dummy import DummyClassifier\n",
    "from sklearn.model_selection import train_test_split\n",
    "from sklearn.svm import LinearSVC, SVC\n",
    "from sklearn.tree import DecisionTreeClassifier, export_graphviz\n",
    "from sklearn.metrics import accuracy_score\n",
    "from sklearn.preprocessing import StandardScaler\n"
   ],
   "outputs": [],
   "execution_count": 30
  },
  {
   "metadata": {
    "ExecuteTime": {
     "end_time": "2025-08-30T13:41:55.452872Z",
     "start_time": "2025-08-30T13:41:55.436158Z"
    }
   },
   "cell_type": "code",
   "source": [
    "dados = pd.read_csv('precos.csv')\n",
    "dados.head()"
   ],
   "id": "7d1f87b42952edbf",
   "outputs": [
    {
     "data": {
      "text/plain": [
       "   milhas_por_ano  ano_do_modelo      preco  vendido\n",
       "0           21801           2000   30941.02        1\n",
       "1            7843           1998   40557.96        1\n",
       "2            7109           2006   89627.50        0\n",
       "3           26823           2015   95276.14        0\n",
       "4            7935           2014  117384.68        1"
      ],
      "text/html": [
       "<div>\n",
       "<style scoped>\n",
       "    .dataframe tbody tr th:only-of-type {\n",
       "        vertical-align: middle;\n",
       "    }\n",
       "\n",
       "    .dataframe tbody tr th {\n",
       "        vertical-align: top;\n",
       "    }\n",
       "\n",
       "    .dataframe thead th {\n",
       "        text-align: right;\n",
       "    }\n",
       "</style>\n",
       "<table border=\"1\" class=\"dataframe\">\n",
       "  <thead>\n",
       "    <tr style=\"text-align: right;\">\n",
       "      <th></th>\n",
       "      <th>milhas_por_ano</th>\n",
       "      <th>ano_do_modelo</th>\n",
       "      <th>preco</th>\n",
       "      <th>vendido</th>\n",
       "    </tr>\n",
       "  </thead>\n",
       "  <tbody>\n",
       "    <tr>\n",
       "      <th>0</th>\n",
       "      <td>21801</td>\n",
       "      <td>2000</td>\n",
       "      <td>30941.02</td>\n",
       "      <td>1</td>\n",
       "    </tr>\n",
       "    <tr>\n",
       "      <th>1</th>\n",
       "      <td>7843</td>\n",
       "      <td>1998</td>\n",
       "      <td>40557.96</td>\n",
       "      <td>1</td>\n",
       "    </tr>\n",
       "    <tr>\n",
       "      <th>2</th>\n",
       "      <td>7109</td>\n",
       "      <td>2006</td>\n",
       "      <td>89627.50</td>\n",
       "      <td>0</td>\n",
       "    </tr>\n",
       "    <tr>\n",
       "      <th>3</th>\n",
       "      <td>26823</td>\n",
       "      <td>2015</td>\n",
       "      <td>95276.14</td>\n",
       "      <td>0</td>\n",
       "    </tr>\n",
       "    <tr>\n",
       "      <th>4</th>\n",
       "      <td>7935</td>\n",
       "      <td>2014</td>\n",
       "      <td>117384.68</td>\n",
       "      <td>1</td>\n",
       "    </tr>\n",
       "  </tbody>\n",
       "</table>\n",
       "</div>"
      ]
     },
     "execution_count": 2,
     "metadata": {},
     "output_type": "execute_result"
    }
   ],
   "execution_count": 2
  },
  {
   "metadata": {
    "ExecuteTime": {
     "end_time": "2025-08-30T13:42:57.371214Z",
     "start_time": "2025-08-30T13:42:57.363792Z"
    }
   },
   "cell_type": "code",
   "source": [
    "dados[\"km_por_ano\"] = dados[\"milhas_por_ano\"] * 1.60934\n",
    "dados.head()"
   ],
   "id": "9770b307a6a1388a",
   "outputs": [
    {
     "data": {
      "text/plain": [
       "   milhas_por_ano  ano_do_modelo      preco  vendido   km_por_ano\n",
       "0           21801           2000   30941.02        1  35085.22134\n",
       "1            7843           1998   40557.96        1  12622.05362\n",
       "2            7109           2006   89627.50        0  11440.79806\n",
       "3           26823           2015   95276.14        0  43167.32682\n",
       "4            7935           2014  117384.68        1  12770.11290"
      ],
      "text/html": [
       "<div>\n",
       "<style scoped>\n",
       "    .dataframe tbody tr th:only-of-type {\n",
       "        vertical-align: middle;\n",
       "    }\n",
       "\n",
       "    .dataframe tbody tr th {\n",
       "        vertical-align: top;\n",
       "    }\n",
       "\n",
       "    .dataframe thead th {\n",
       "        text-align: right;\n",
       "    }\n",
       "</style>\n",
       "<table border=\"1\" class=\"dataframe\">\n",
       "  <thead>\n",
       "    <tr style=\"text-align: right;\">\n",
       "      <th></th>\n",
       "      <th>milhas_por_ano</th>\n",
       "      <th>ano_do_modelo</th>\n",
       "      <th>preco</th>\n",
       "      <th>vendido</th>\n",
       "      <th>km_por_ano</th>\n",
       "    </tr>\n",
       "  </thead>\n",
       "  <tbody>\n",
       "    <tr>\n",
       "      <th>0</th>\n",
       "      <td>21801</td>\n",
       "      <td>2000</td>\n",
       "      <td>30941.02</td>\n",
       "      <td>1</td>\n",
       "      <td>35085.22134</td>\n",
       "    </tr>\n",
       "    <tr>\n",
       "      <th>1</th>\n",
       "      <td>7843</td>\n",
       "      <td>1998</td>\n",
       "      <td>40557.96</td>\n",
       "      <td>1</td>\n",
       "      <td>12622.05362</td>\n",
       "    </tr>\n",
       "    <tr>\n",
       "      <th>2</th>\n",
       "      <td>7109</td>\n",
       "      <td>2006</td>\n",
       "      <td>89627.50</td>\n",
       "      <td>0</td>\n",
       "      <td>11440.79806</td>\n",
       "    </tr>\n",
       "    <tr>\n",
       "      <th>3</th>\n",
       "      <td>26823</td>\n",
       "      <td>2015</td>\n",
       "      <td>95276.14</td>\n",
       "      <td>0</td>\n",
       "      <td>43167.32682</td>\n",
       "    </tr>\n",
       "    <tr>\n",
       "      <th>4</th>\n",
       "      <td>7935</td>\n",
       "      <td>2014</td>\n",
       "      <td>117384.68</td>\n",
       "      <td>1</td>\n",
       "      <td>12770.11290</td>\n",
       "    </tr>\n",
       "  </tbody>\n",
       "</table>\n",
       "</div>"
      ]
     },
     "execution_count": 5,
     "metadata": {},
     "output_type": "execute_result"
    }
   ],
   "execution_count": 5
  },
  {
   "metadata": {
    "ExecuteTime": {
     "end_time": "2025-08-30T13:46:07.861921Z",
     "start_time": "2025-08-30T13:46:07.855051Z"
    }
   },
   "cell_type": "code",
   "source": [
    "dados[\"idade\"] = datetime.today().year - dados[\"ano_do_modelo\"]\n",
    "dados.head()"
   ],
   "id": "565976f6a90da615",
   "outputs": [
    {
     "data": {
      "text/plain": [
       "   milhas_por_ano  ano_do_modelo      preco  vendido   km_por_ano  idade\n",
       "0           21801           2000   30941.02        1  35085.22134     25\n",
       "1            7843           1998   40557.96        1  12622.05362     27\n",
       "2            7109           2006   89627.50        0  11440.79806     19\n",
       "3           26823           2015   95276.14        0  43167.32682     10\n",
       "4            7935           2014  117384.68        1  12770.11290     11"
      ],
      "text/html": [
       "<div>\n",
       "<style scoped>\n",
       "    .dataframe tbody tr th:only-of-type {\n",
       "        vertical-align: middle;\n",
       "    }\n",
       "\n",
       "    .dataframe tbody tr th {\n",
       "        vertical-align: top;\n",
       "    }\n",
       "\n",
       "    .dataframe thead th {\n",
       "        text-align: right;\n",
       "    }\n",
       "</style>\n",
       "<table border=\"1\" class=\"dataframe\">\n",
       "  <thead>\n",
       "    <tr style=\"text-align: right;\">\n",
       "      <th></th>\n",
       "      <th>milhas_por_ano</th>\n",
       "      <th>ano_do_modelo</th>\n",
       "      <th>preco</th>\n",
       "      <th>vendido</th>\n",
       "      <th>km_por_ano</th>\n",
       "      <th>idade</th>\n",
       "    </tr>\n",
       "  </thead>\n",
       "  <tbody>\n",
       "    <tr>\n",
       "      <th>0</th>\n",
       "      <td>21801</td>\n",
       "      <td>2000</td>\n",
       "      <td>30941.02</td>\n",
       "      <td>1</td>\n",
       "      <td>35085.22134</td>\n",
       "      <td>25</td>\n",
       "    </tr>\n",
       "    <tr>\n",
       "      <th>1</th>\n",
       "      <td>7843</td>\n",
       "      <td>1998</td>\n",
       "      <td>40557.96</td>\n",
       "      <td>1</td>\n",
       "      <td>12622.05362</td>\n",
       "      <td>27</td>\n",
       "    </tr>\n",
       "    <tr>\n",
       "      <th>2</th>\n",
       "      <td>7109</td>\n",
       "      <td>2006</td>\n",
       "      <td>89627.50</td>\n",
       "      <td>0</td>\n",
       "      <td>11440.79806</td>\n",
       "      <td>19</td>\n",
       "    </tr>\n",
       "    <tr>\n",
       "      <th>3</th>\n",
       "      <td>26823</td>\n",
       "      <td>2015</td>\n",
       "      <td>95276.14</td>\n",
       "      <td>0</td>\n",
       "      <td>43167.32682</td>\n",
       "      <td>10</td>\n",
       "    </tr>\n",
       "    <tr>\n",
       "      <th>4</th>\n",
       "      <td>7935</td>\n",
       "      <td>2014</td>\n",
       "      <td>117384.68</td>\n",
       "      <td>1</td>\n",
       "      <td>12770.11290</td>\n",
       "      <td>11</td>\n",
       "    </tr>\n",
       "  </tbody>\n",
       "</table>\n",
       "</div>"
      ]
     },
     "execution_count": 7,
     "metadata": {},
     "output_type": "execute_result"
    }
   ],
   "execution_count": 7
  },
  {
   "metadata": {
    "ExecuteTime": {
     "end_time": "2025-08-30T13:47:11.852652Z",
     "start_time": "2025-08-30T13:47:11.845774Z"
    }
   },
   "cell_type": "code",
   "source": [
    "dados.drop([\"milhas_por_ano\", \"ano_do_modelo\"], axis=1, inplace=True)\n",
    "dados.head()"
   ],
   "id": "76d8ac826aaa3f91",
   "outputs": [
    {
     "data": {
      "text/plain": [
       "       preco  vendido   km_por_ano  idade\n",
       "0   30941.02        1  35085.22134     25\n",
       "1   40557.96        1  12622.05362     27\n",
       "2   89627.50        0  11440.79806     19\n",
       "3   95276.14        0  43167.32682     10\n",
       "4  117384.68        1  12770.11290     11"
      ],
      "text/html": [
       "<div>\n",
       "<style scoped>\n",
       "    .dataframe tbody tr th:only-of-type {\n",
       "        vertical-align: middle;\n",
       "    }\n",
       "\n",
       "    .dataframe tbody tr th {\n",
       "        vertical-align: top;\n",
       "    }\n",
       "\n",
       "    .dataframe thead th {\n",
       "        text-align: right;\n",
       "    }\n",
       "</style>\n",
       "<table border=\"1\" class=\"dataframe\">\n",
       "  <thead>\n",
       "    <tr style=\"text-align: right;\">\n",
       "      <th></th>\n",
       "      <th>preco</th>\n",
       "      <th>vendido</th>\n",
       "      <th>km_por_ano</th>\n",
       "      <th>idade</th>\n",
       "    </tr>\n",
       "  </thead>\n",
       "  <tbody>\n",
       "    <tr>\n",
       "      <th>0</th>\n",
       "      <td>30941.02</td>\n",
       "      <td>1</td>\n",
       "      <td>35085.22134</td>\n",
       "      <td>25</td>\n",
       "    </tr>\n",
       "    <tr>\n",
       "      <th>1</th>\n",
       "      <td>40557.96</td>\n",
       "      <td>1</td>\n",
       "      <td>12622.05362</td>\n",
       "      <td>27</td>\n",
       "    </tr>\n",
       "    <tr>\n",
       "      <th>2</th>\n",
       "      <td>89627.50</td>\n",
       "      <td>0</td>\n",
       "      <td>11440.79806</td>\n",
       "      <td>19</td>\n",
       "    </tr>\n",
       "    <tr>\n",
       "      <th>3</th>\n",
       "      <td>95276.14</td>\n",
       "      <td>0</td>\n",
       "      <td>43167.32682</td>\n",
       "      <td>10</td>\n",
       "    </tr>\n",
       "    <tr>\n",
       "      <th>4</th>\n",
       "      <td>117384.68</td>\n",
       "      <td>1</td>\n",
       "      <td>12770.11290</td>\n",
       "      <td>11</td>\n",
       "    </tr>\n",
       "  </tbody>\n",
       "</table>\n",
       "</div>"
      ]
     },
     "execution_count": 9,
     "metadata": {},
     "output_type": "execute_result"
    }
   ],
   "execution_count": 9
  },
  {
   "metadata": {
    "ExecuteTime": {
     "end_time": "2025-08-30T13:49:32.499036Z",
     "start_time": "2025-08-30T13:49:32.495275Z"
    }
   },
   "cell_type": "code",
   "source": [
    "x = dados[[\"preco\", \"idade\", \"km_por_ano\"]]\n",
    "y = dados[\"vendido\"]"
   ],
   "id": "89ae5c91d9897e96",
   "outputs": [],
   "execution_count": 14
  },
  {
   "metadata": {
    "ExecuteTime": {
     "end_time": "2025-08-30T13:53:58.314104Z",
     "start_time": "2025-08-30T13:53:58.308549Z"
    }
   },
   "cell_type": "code",
   "source": "len(dados.query(\"vendido == True\")) / len(dados)",
   "id": "8710c937ca495334",
   "outputs": [
    {
     "data": {
      "text/plain": [
       "0.58"
      ]
     },
     "execution_count": 19,
     "metadata": {},
     "output_type": "execute_result"
    }
   ],
   "execution_count": 19
  },
  {
   "metadata": {
    "ExecuteTime": {
     "end_time": "2025-08-30T13:56:52.163460Z",
     "start_time": "2025-08-30T13:56:52.153574Z"
    }
   },
   "cell_type": "code",
   "source": [
    "# DummyClassifier\n",
    "SEED = 20\n",
    "\n",
    "raw_treino_x, raw_teste_x, treino_y, teste_y = train_test_split(x, y,\n",
    "                                                         random_state = SEED,\n",
    "                                                         stratify = y)\n",
    "print(f\"Treinaremos com {len(raw_treino_x)}\")\n",
    "print(f\"Testaremos com {len(raw_teste_x)}\")\n",
    "\n",
    "classificador = DummyClassifier()\n",
    "classificador.fit(raw_treino_x, treino_y)\n",
    "previsoes = classificador.predict(raw_teste_x)\n",
    "\n",
    "acuracia = accuracy_score(teste_y, previsoes) * 100\n",
    "print(f\"A acurácia do dummy foi de {acuracia:.2f}%\")"
   ],
   "id": "dfa9982d832a2d38",
   "outputs": [
    {
     "name": "stdout",
     "output_type": "stream",
     "text": [
      "Treinaremos com 7500\n",
      "Testaremos com 2500\n",
      "A acurácia do dummy foi de 58.00%\n"
     ]
    }
   ],
   "execution_count": 23
  },
  {
   "metadata": {
    "ExecuteTime": {
     "end_time": "2025-08-30T13:59:37.350820Z",
     "start_time": "2025-08-30T13:59:37.341432Z"
    }
   },
   "cell_type": "code",
   "source": [
    "# DummyClassifier\n",
    "SEED = 20\n",
    "\n",
    "raw_treino_x, raw_teste_x, treino_y, teste_y = train_test_split(x, y,\n",
    "                                                         random_state = SEED,\n",
    "                                                         stratify = y)\n",
    "print(f\"Treinaremos com {len(raw_treino_x)}\")\n",
    "print(f\"Testaremos com {len(raw_teste_x)}\")\n",
    "\n",
    "classificador = DummyClassifier(strategy='stratified')\n",
    "classificador.fit(raw_treino_x, treino_y)\n",
    "previsoes = classificador.predict(raw_teste_x)\n",
    "\n",
    "acuracia = accuracy_score(teste_y, previsoes) * 100\n",
    "print(f\"A acurácia do dummy foi de {acuracia:.2f}%\")"
   ],
   "id": "1c154801f6cafdf6",
   "outputs": [
    {
     "name": "stdout",
     "output_type": "stream",
     "text": [
      "Treinaremos com 7500\n",
      "Testaremos com 2500\n",
      "A acurácia do dummy foi de 50.04%\n"
     ]
    }
   ],
   "execution_count": 24
  },
  {
   "metadata": {
    "ExecuteTime": {
     "end_time": "2025-08-30T13:50:48.102117Z",
     "start_time": "2025-08-30T13:50:48.088609Z"
    }
   },
   "cell_type": "code",
   "outputs": [
    {
     "name": "stdout",
     "output_type": "stream",
     "text": [
      "Treinaremos com 7500\n",
      "Testaremos com 2500\n",
      "A acurácia foi de 69.92%\n"
     ]
    }
   ],
   "execution_count": 16,
   "source": [
    "SEED = 20\n",
    "\n",
    "raw_treino_x, raw_teste_x, treino_y, teste_y = train_test_split(x, y,\n",
    "                                                         random_state = SEED,\n",
    "                                                         stratify = y)\n",
    "print(f\"Treinaremos com {len(raw_treino_x)}\")\n",
    "print(f\"Testaremos com {len(raw_teste_x)}\")\n",
    "\n",
    "\n",
    "scaler = StandardScaler()\n",
    "scaler.fit(raw_treino_x)\n",
    "\n",
    "treino_x = scaler.transform(raw_treino_x)\n",
    "teste_x = scaler.transform(raw_teste_x)\n",
    "\n",
    "\n",
    "modelo = LinearSVC()\n",
    "modelo.fit(treino_x, treino_y)\n",
    "previsoes = modelo.predict(teste_x)\n",
    "\n",
    "acuracia = accuracy_score(teste_y, previsoes) * 100\n",
    "print(f\"A acurácia foi de {acuracia:.2f}%\")"
   ],
   "id": "6a3fc0b9fb8c8538"
  },
  {
   "metadata": {
    "ExecuteTime": {
     "end_time": "2025-08-30T13:50:51.710477Z",
     "start_time": "2025-08-30T13:50:50.480379Z"
    }
   },
   "cell_type": "code",
   "outputs": [
    {
     "name": "stdout",
     "output_type": "stream",
     "text": [
      "Treinaremos com 7500\n",
      "Testaremos com 2500\n",
      "A acurácia foi de 75.92%\n"
     ]
    }
   ],
   "execution_count": 17,
   "source": [
    "SEED = 20\n",
    "\n",
    "raw_treino_x, raw_teste_x, treino_y, teste_y = train_test_split(x, y,\n",
    "                                                         random_state = SEED,\n",
    "                                                         stratify = y)\n",
    "print(f\"Treinaremos com {len(raw_treino_x)}\")\n",
    "print(f\"Testaremos com {len(raw_teste_x)}\")\n",
    "\n",
    "\n",
    "scaler = StandardScaler()\n",
    "scaler.fit(raw_treino_x)\n",
    "\n",
    "treino_x = scaler.transform(raw_treino_x)\n",
    "teste_x = scaler.transform(raw_teste_x)\n",
    "\n",
    "\n",
    "modelo = SVC(gamma='auto')\n",
    "modelo.fit(treino_x, treino_y)\n",
    "previsoes = modelo.predict(teste_x)\n",
    "\n",
    "acuracia = accuracy_score(teste_y, previsoes) * 100\n",
    "print(f\"A acurácia foi de {acuracia:.2f}%\")"
   ],
   "id": "3b6fe47c57ff9598"
  },
  {
   "metadata": {
    "ExecuteTime": {
     "end_time": "2025-08-30T14:19:25.865600Z",
     "start_time": "2025-08-30T14:19:25.848377Z"
    }
   },
   "cell_type": "code",
   "source": [
    "SEED = 20\n",
    "\n",
    "raw_treino_x, raw_teste_x, treino_y, teste_y = train_test_split(x, y,\n",
    "                                                         random_state = SEED,\n",
    "                                                         stratify = y)\n",
    "print(f\"Treinaremos com {len(raw_treino_x)}\")\n",
    "print(f\"Testaremos com {len(raw_teste_x)}\")\n",
    "\n",
    "\n",
    "# scaler = StandardScaler()\n",
    "# scaler.fit(raw_treino_x)\n",
    "\n",
    "# treino_x = scaler.transform(raw_treino_x)\n",
    "# teste_x = scaler.transform(raw_teste_x)\n",
    "\n",
    "treino_x = raw_treino_x\n",
    "teste_x = raw_teste_x\n",
    "\n",
    "\n",
    "modelo = DecisionTreeClassifier(max_depth=3)\n",
    "modelo.fit(treino_x, treino_y)\n",
    "previsoes = modelo.predict(teste_x)\n",
    "\n",
    "acuracia = accuracy_score(teste_y, previsoes) * 100\n",
    "print(f\"A acurácia foi de {acuracia:.2f}%\")"
   ],
   "id": "7abf3fd8bb6456b6",
   "outputs": [
    {
     "name": "stdout",
     "output_type": "stream",
     "text": [
      "Treinaremos com 7500\n",
      "Testaremos com 2500\n",
      "A acurácia foi de 78.40%\n"
     ]
    }
   ],
   "execution_count": 37
  },
  {
   "metadata": {
    "ExecuteTime": {
     "end_time": "2025-08-30T14:19:28.884249Z",
     "start_time": "2025-08-30T14:19:28.555844Z"
    }
   },
   "cell_type": "code",
   "source": [
    "estrutura = export_graphviz(modelo, filled=True, rounded=True, feature_names=x.columns,\n",
    "                            class_names=[\"não\", \"sim\"])\n",
    "grafico = graphviz.Source(estrutura)\n",
    "grafico"
   ],
   "id": "4d256ac3d99fae9",
   "outputs": [
    {
     "data": {
      "image/svg+xml": "<?xml version=\"1.0\" encoding=\"UTF-8\" standalone=\"no\"?>\n<!DOCTYPE svg PUBLIC \"-//W3C//DTD SVG 1.1//EN\"\n \"http://www.w3.org/Graphics/SVG/1.1/DTD/svg11.dtd\">\n<!-- Generated by graphviz version 13.1.2 (20250808.2320)\n -->\n<!-- Title: Tree Pages: 1 -->\n<svg width=\"863pt\" height=\"447pt\"\n viewBox=\"0.00 0.00 863.00 447.00\" xmlns=\"http://www.w3.org/2000/svg\" xmlns:xlink=\"http://www.w3.org/1999/xlink\">\n<g id=\"graph0\" class=\"graph\" transform=\"scale(1 1) rotate(0) translate(4 443.25)\">\n<title>Tree</title>\n<polygon fill=\"white\" stroke=\"none\" points=\"-4,4 -4,-443.25 858.5,-443.25 858.5,4 -4,4\"/>\n<!-- 0 -->\n<g id=\"node1\" class=\"node\">\n<title>0</title>\n<path fill=\"#c8e4f8\" stroke=\"black\" d=\"M369.75,-439.25C369.75,-439.25 254.75,-439.25 254.75,-439.25 248.75,-439.25 242.75,-433.25 242.75,-427.25 242.75,-427.25 242.75,-364.5 242.75,-364.5 242.75,-358.5 248.75,-352.5 254.75,-352.5 254.75,-352.5 369.75,-352.5 369.75,-352.5 375.75,-352.5 381.75,-358.5 381.75,-364.5 381.75,-364.5 381.75,-427.25 381.75,-427.25 381.75,-433.25 375.75,-439.25 369.75,-439.25\"/>\n<text xml:space=\"preserve\" text-anchor=\"middle\" x=\"312.25\" y=\"-421.95\" font-family=\"Helvetica,sans-Serif\" font-size=\"14.00\">preco &lt;= 59976.24</text>\n<text xml:space=\"preserve\" text-anchor=\"middle\" x=\"312.25\" y=\"-406.2\" font-family=\"Helvetica,sans-Serif\" font-size=\"14.00\">gini = 0.487</text>\n<text xml:space=\"preserve\" text-anchor=\"middle\" x=\"312.25\" y=\"-390.45\" font-family=\"Helvetica,sans-Serif\" font-size=\"14.00\">samples = 7500</text>\n<text xml:space=\"preserve\" text-anchor=\"middle\" x=\"312.25\" y=\"-374.7\" font-family=\"Helvetica,sans-Serif\" font-size=\"14.00\">value = [3150, 4350]</text>\n<text xml:space=\"preserve\" text-anchor=\"middle\" x=\"312.25\" y=\"-358.95\" font-family=\"Helvetica,sans-Serif\" font-size=\"14.00\">class = sim</text>\n</g>\n<!-- 1 -->\n<g id=\"node2\" class=\"node\">\n<title>1</title>\n<path fill=\"#52a9e8\" stroke=\"black\" d=\"M277,-316.5C277,-316.5 163.5,-316.5 163.5,-316.5 157.5,-316.5 151.5,-310.5 151.5,-304.5 151.5,-304.5 151.5,-241.75 151.5,-241.75 151.5,-235.75 157.5,-229.75 163.5,-229.75 163.5,-229.75 277,-229.75 277,-229.75 283,-229.75 289,-235.75 289,-241.75 289,-241.75 289,-304.5 289,-304.5 289,-310.5 283,-316.5 277,-316.5\"/>\n<text xml:space=\"preserve\" text-anchor=\"middle\" x=\"220.25\" y=\"-299.2\" font-family=\"Helvetica,sans-Serif\" font-size=\"14.00\">preco &lt;= 40083.385</text>\n<text xml:space=\"preserve\" text-anchor=\"middle\" x=\"220.25\" y=\"-283.45\" font-family=\"Helvetica,sans-Serif\" font-size=\"14.00\">gini = 0.198</text>\n<text xml:space=\"preserve\" text-anchor=\"middle\" x=\"220.25\" y=\"-267.7\" font-family=\"Helvetica,sans-Serif\" font-size=\"14.00\">samples = 3261</text>\n<text xml:space=\"preserve\" text-anchor=\"middle\" x=\"220.25\" y=\"-251.95\" font-family=\"Helvetica,sans-Serif\" font-size=\"14.00\">value = [364, 2897]</text>\n<text xml:space=\"preserve\" text-anchor=\"middle\" x=\"220.25\" y=\"-236.2\" font-family=\"Helvetica,sans-Serif\" font-size=\"14.00\">class = sim</text>\n</g>\n<!-- 0&#45;&gt;1 -->\n<g id=\"edge1\" class=\"edge\">\n<title>0&#45;&gt;1</title>\n<path fill=\"none\" stroke=\"black\" d=\"M279.81,-352.3C273.29,-343.74 266.36,-334.64 259.63,-325.81\"/>\n<polygon fill=\"black\" stroke=\"black\" points=\"262.46,-323.76 253.62,-317.92 256.9,-328 262.46,-323.76\"/>\n<text xml:space=\"preserve\" text-anchor=\"middle\" x=\"249.36\" y=\"-336.07\" font-family=\"Helvetica,sans-Serif\" font-size=\"14.00\">True</text>\n</g>\n<!-- 6 -->\n<g id=\"node7\" class=\"node\">\n<title>6</title>\n<path fill=\"#f3c3a0\" stroke=\"black\" d=\"M524,-316.5C524,-316.5 368.5,-316.5 368.5,-316.5 362.5,-316.5 356.5,-310.5 356.5,-304.5 356.5,-304.5 356.5,-241.75 356.5,-241.75 356.5,-235.75 362.5,-229.75 368.5,-229.75 368.5,-229.75 524,-229.75 524,-229.75 530,-229.75 536,-235.75 536,-241.75 536,-241.75 536,-304.5 536,-304.5 536,-310.5 530,-316.5 524,-316.5\"/>\n<text xml:space=\"preserve\" text-anchor=\"middle\" x=\"446.25\" y=\"-299.2\" font-family=\"Helvetica,sans-Serif\" font-size=\"14.00\">km_por_ano &lt;= 24124.006</text>\n<text xml:space=\"preserve\" text-anchor=\"middle\" x=\"446.25\" y=\"-283.45\" font-family=\"Helvetica,sans-Serif\" font-size=\"14.00\">gini = 0.451</text>\n<text xml:space=\"preserve\" text-anchor=\"middle\" x=\"446.25\" y=\"-267.7\" font-family=\"Helvetica,sans-Serif\" font-size=\"14.00\">samples = 4239</text>\n<text xml:space=\"preserve\" text-anchor=\"middle\" x=\"446.25\" y=\"-251.95\" font-family=\"Helvetica,sans-Serif\" font-size=\"14.00\">value = [2786, 1453]</text>\n<text xml:space=\"preserve\" text-anchor=\"middle\" x=\"446.25\" y=\"-236.2\" font-family=\"Helvetica,sans-Serif\" font-size=\"14.00\">class = não</text>\n</g>\n<!-- 0&#45;&gt;6 -->\n<g id=\"edge6\" class=\"edge\">\n<title>0&#45;&gt;6</title>\n<path fill=\"none\" stroke=\"black\" d=\"M359.49,-352.3C369.5,-343.29 380.15,-333.69 390.44,-324.41\"/>\n<polygon fill=\"black\" stroke=\"black\" points=\"392.77,-327.03 397.86,-317.73 388.09,-321.83 392.77,-327.03\"/>\n<text xml:space=\"preserve\" text-anchor=\"middle\" x=\"397.68\" y=\"-336.26\" font-family=\"Helvetica,sans-Serif\" font-size=\"14.00\">False</text>\n</g>\n<!-- 2 -->\n<g id=\"node3\" class=\"node\">\n<title>2</title>\n<path fill=\"#399de5\" stroke=\"black\" d=\"M104.5,-185.88C104.5,-185.88 12,-185.88 12,-185.88 6,-185.88 0,-179.88 0,-173.88 0,-173.88 0,-126.88 0,-126.88 0,-120.88 6,-114.88 12,-114.88 12,-114.88 104.5,-114.88 104.5,-114.88 110.5,-114.88 116.5,-120.88 116.5,-126.88 116.5,-126.88 116.5,-173.88 116.5,-173.88 116.5,-179.88 110.5,-185.88 104.5,-185.88\"/>\n<text xml:space=\"preserve\" text-anchor=\"middle\" x=\"58.25\" y=\"-168.57\" font-family=\"Helvetica,sans-Serif\" font-size=\"14.00\">gini = 0.0</text>\n<text xml:space=\"preserve\" text-anchor=\"middle\" x=\"58.25\" y=\"-152.82\" font-family=\"Helvetica,sans-Serif\" font-size=\"14.00\">samples = 1425</text>\n<text xml:space=\"preserve\" text-anchor=\"middle\" x=\"58.25\" y=\"-137.07\" font-family=\"Helvetica,sans-Serif\" font-size=\"14.00\">value = [0, 1425]</text>\n<text xml:space=\"preserve\" text-anchor=\"middle\" x=\"58.25\" y=\"-121.33\" font-family=\"Helvetica,sans-Serif\" font-size=\"14.00\">class = sim</text>\n</g>\n<!-- 1&#45;&gt;2 -->\n<g id=\"edge2\" class=\"edge\">\n<title>1&#45;&gt;2</title>\n<path fill=\"none\" stroke=\"black\" d=\"M163.13,-229.55C147.22,-217.69 129.95,-204.82 114.11,-193.01\"/>\n<polygon fill=\"black\" stroke=\"black\" points=\"116.29,-190.27 106.18,-187.1 112.11,-195.88 116.29,-190.27\"/>\n</g>\n<!-- 3 -->\n<g id=\"node4\" class=\"node\">\n<title>3</title>\n<path fill=\"#6ab5eb\" stroke=\"black\" d=\"M294.25,-193.75C294.25,-193.75 146.25,-193.75 146.25,-193.75 140.25,-193.75 134.25,-187.75 134.25,-181.75 134.25,-181.75 134.25,-119 134.25,-119 134.25,-113 140.25,-107 146.25,-107 146.25,-107 294.25,-107 294.25,-107 300.25,-107 306.25,-113 306.25,-119 306.25,-119 306.25,-181.75 306.25,-181.75 306.25,-187.75 300.25,-193.75 294.25,-193.75\"/>\n<text xml:space=\"preserve\" text-anchor=\"middle\" x=\"220.25\" y=\"-176.45\" font-family=\"Helvetica,sans-Serif\" font-size=\"14.00\">km_por_ano &lt;= 10288.51</text>\n<text xml:space=\"preserve\" text-anchor=\"middle\" x=\"220.25\" y=\"-160.7\" font-family=\"Helvetica,sans-Serif\" font-size=\"14.00\">gini = 0.318</text>\n<text xml:space=\"preserve\" text-anchor=\"middle\" x=\"220.25\" y=\"-144.95\" font-family=\"Helvetica,sans-Serif\" font-size=\"14.00\">samples = 1836</text>\n<text xml:space=\"preserve\" text-anchor=\"middle\" x=\"220.25\" y=\"-129.2\" font-family=\"Helvetica,sans-Serif\" font-size=\"14.00\">value = [364, 1472]</text>\n<text xml:space=\"preserve\" text-anchor=\"middle\" x=\"220.25\" y=\"-113.45\" font-family=\"Helvetica,sans-Serif\" font-size=\"14.00\">class = sim</text>\n</g>\n<!-- 1&#45;&gt;3 -->\n<g id=\"edge3\" class=\"edge\">\n<title>1&#45;&gt;3</title>\n<path fill=\"none\" stroke=\"black\" d=\"M220.25,-229.55C220.25,-221.71 220.25,-213.42 220.25,-205.29\"/>\n<polygon fill=\"black\" stroke=\"black\" points=\"223.75,-205.48 220.25,-195.48 216.75,-205.48 223.75,-205.48\"/>\n</g>\n<!-- 4 -->\n<g id=\"node5\" class=\"node\">\n<title>4</title>\n<path fill=\"#c0e0f7\" stroke=\"black\" d=\"M124.75,-71C124.75,-71 39.75,-71 39.75,-71 33.75,-71 27.75,-65 27.75,-59 27.75,-59 27.75,-12 27.75,-12 27.75,-6 33.75,0 39.75,0 39.75,0 124.75,0 124.75,0 130.75,0 136.75,-6 136.75,-12 136.75,-12 136.75,-59 136.75,-59 136.75,-65 130.75,-71 124.75,-71\"/>\n<text xml:space=\"preserve\" text-anchor=\"middle\" x=\"82.25\" y=\"-53.7\" font-family=\"Helvetica,sans-Serif\" font-size=\"14.00\">gini = 0.482</text>\n<text xml:space=\"preserve\" text-anchor=\"middle\" x=\"82.25\" y=\"-37.95\" font-family=\"Helvetica,sans-Serif\" font-size=\"14.00\">samples = 42</text>\n<text xml:space=\"preserve\" text-anchor=\"middle\" x=\"82.25\" y=\"-22.2\" font-family=\"Helvetica,sans-Serif\" font-size=\"14.00\">value = [17, 25]</text>\n<text xml:space=\"preserve\" text-anchor=\"middle\" x=\"82.25\" y=\"-6.45\" font-family=\"Helvetica,sans-Serif\" font-size=\"14.00\">class = sim</text>\n</g>\n<!-- 3&#45;&gt;4 -->\n<g id=\"edge4\" class=\"edge\">\n<title>3&#45;&gt;4</title>\n<path fill=\"none\" stroke=\"black\" d=\"M168.08,-106.7C156.76,-97.44 144.79,-87.65 133.5,-78.42\"/>\n<polygon fill=\"black\" stroke=\"black\" points=\"135.75,-75.74 125.79,-72.12 131.32,-81.16 135.75,-75.74\"/>\n</g>\n<!-- 5 -->\n<g id=\"node6\" class=\"node\">\n<title>5</title>\n<path fill=\"#68b5eb\" stroke=\"black\" d=\"M274,-71C274,-71 166.5,-71 166.5,-71 160.5,-71 154.5,-65 154.5,-59 154.5,-59 154.5,-12 154.5,-12 154.5,-6 160.5,0 166.5,0 166.5,0 274,0 274,0 280,0 286,-6 286,-12 286,-12 286,-59 286,-59 286,-65 280,-71 274,-71\"/>\n<text xml:space=\"preserve\" text-anchor=\"middle\" x=\"220.25\" y=\"-53.7\" font-family=\"Helvetica,sans-Serif\" font-size=\"14.00\">gini = 0.312</text>\n<text xml:space=\"preserve\" text-anchor=\"middle\" x=\"220.25\" y=\"-37.95\" font-family=\"Helvetica,sans-Serif\" font-size=\"14.00\">samples = 1794</text>\n<text xml:space=\"preserve\" text-anchor=\"middle\" x=\"220.25\" y=\"-22.2\" font-family=\"Helvetica,sans-Serif\" font-size=\"14.00\">value = [347, 1447]</text>\n<text xml:space=\"preserve\" text-anchor=\"middle\" x=\"220.25\" y=\"-6.45\" font-family=\"Helvetica,sans-Serif\" font-size=\"14.00\">class = sim</text>\n</g>\n<!-- 3&#45;&gt;5 -->\n<g id=\"edge5\" class=\"edge\">\n<title>3&#45;&gt;5</title>\n<path fill=\"none\" stroke=\"black\" d=\"M220.25,-106.7C220.25,-98.82 220.25,-90.55 220.25,-82.57\"/>\n<polygon fill=\"black\" stroke=\"black\" points=\"223.75,-82.67 220.25,-72.67 216.75,-82.67 223.75,-82.67\"/>\n</g>\n<!-- 7 -->\n<g id=\"node8\" class=\"node\">\n<title>7</title>\n<path fill=\"#fceee5\" stroke=\"black\" d=\"M515,-193.75C515,-193.75 377.5,-193.75 377.5,-193.75 371.5,-193.75 365.5,-187.75 365.5,-181.75 365.5,-181.75 365.5,-119 365.5,-119 365.5,-113 371.5,-107 377.5,-107 377.5,-107 515,-107 515,-107 521,-107 527,-113 527,-119 527,-119 527,-181.75 527,-181.75 527,-187.75 521,-193.75 515,-193.75\"/>\n<text xml:space=\"preserve\" text-anchor=\"middle\" x=\"446.25\" y=\"-176.45\" font-family=\"Helvetica,sans-Serif\" font-size=\"14.00\">preco &lt;= 99965.645</text>\n<text xml:space=\"preserve\" text-anchor=\"middle\" x=\"446.25\" y=\"-160.7\" font-family=\"Helvetica,sans-Serif\" font-size=\"14.00\">gini = 0.498</text>\n<text xml:space=\"preserve\" text-anchor=\"middle\" x=\"446.25\" y=\"-144.95\" font-family=\"Helvetica,sans-Serif\" font-size=\"14.00\">samples = 2627</text>\n<text xml:space=\"preserve\" text-anchor=\"middle\" x=\"446.25\" y=\"-129.2\" font-family=\"Helvetica,sans-Serif\" font-size=\"14.00\">value = [1406.0, 1221.0]</text>\n<text xml:space=\"preserve\" text-anchor=\"middle\" x=\"446.25\" y=\"-113.45\" font-family=\"Helvetica,sans-Serif\" font-size=\"14.00\">class = não</text>\n</g>\n<!-- 6&#45;&gt;7 -->\n<g id=\"edge7\" class=\"edge\">\n<title>6&#45;&gt;7</title>\n<path fill=\"none\" stroke=\"black\" d=\"M446.25,-229.55C446.25,-221.71 446.25,-213.42 446.25,-205.29\"/>\n<polygon fill=\"black\" stroke=\"black\" points=\"449.75,-205.48 446.25,-195.48 442.75,-205.48 449.75,-205.48\"/>\n</g>\n<!-- 10 -->\n<g id=\"node11\" class=\"node\">\n<title>10</title>\n<path fill=\"#e9965a\" stroke=\"black\" d=\"M718.75,-193.75C718.75,-193.75 597.75,-193.75 597.75,-193.75 591.75,-193.75 585.75,-187.75 585.75,-181.75 585.75,-181.75 585.75,-119 585.75,-119 585.75,-113 591.75,-107 597.75,-107 597.75,-107 718.75,-107 718.75,-107 724.75,-107 730.75,-113 730.75,-119 730.75,-119 730.75,-181.75 730.75,-181.75 730.75,-187.75 724.75,-193.75 718.75,-193.75\"/>\n<text xml:space=\"preserve\" text-anchor=\"middle\" x=\"658.25\" y=\"-176.45\" font-family=\"Helvetica,sans-Serif\" font-size=\"14.00\">preco &lt;= 100076.957</text>\n<text xml:space=\"preserve\" text-anchor=\"middle\" x=\"658.25\" y=\"-160.7\" font-family=\"Helvetica,sans-Serif\" font-size=\"14.00\">gini = 0.246</text>\n<text xml:space=\"preserve\" text-anchor=\"middle\" x=\"658.25\" y=\"-144.95\" font-family=\"Helvetica,sans-Serif\" font-size=\"14.00\">samples = 1612</text>\n<text xml:space=\"preserve\" text-anchor=\"middle\" x=\"658.25\" y=\"-129.2\" font-family=\"Helvetica,sans-Serif\" font-size=\"14.00\">value = [1380, 232]</text>\n<text xml:space=\"preserve\" text-anchor=\"middle\" x=\"658.25\" y=\"-113.45\" font-family=\"Helvetica,sans-Serif\" font-size=\"14.00\">class = não</text>\n</g>\n<!-- 6&#45;&gt;10 -->\n<g id=\"edge10\" class=\"edge\">\n<title>6&#45;&gt;10</title>\n<path fill=\"none\" stroke=\"black\" d=\"M521.29,-229.38C538.88,-219.37 557.71,-208.64 575.61,-198.44\"/>\n<polygon fill=\"black\" stroke=\"black\" points=\"577.17,-201.58 584.13,-193.59 573.71,-195.5 577.17,-201.58\"/>\n</g>\n<!-- 8 -->\n<g id=\"node9\" class=\"node\">\n<title>8</title>\n<path fill=\"#f8dfcc\" stroke=\"black\" d=\"M424,-71C424,-71 316.5,-71 316.5,-71 310.5,-71 304.5,-65 304.5,-59 304.5,-59 304.5,-12 304.5,-12 304.5,-6 310.5,0 316.5,0 316.5,0 424,0 424,0 430,0 436,-6 436,-12 436,-12 436,-59 436,-59 436,-65 430,-71 424,-71\"/>\n<text xml:space=\"preserve\" text-anchor=\"middle\" x=\"370.25\" y=\"-53.7\" font-family=\"Helvetica,sans-Serif\" font-size=\"14.00\">gini = 0.489</text>\n<text xml:space=\"preserve\" text-anchor=\"middle\" x=\"370.25\" y=\"-37.95\" font-family=\"Helvetica,sans-Serif\" font-size=\"14.00\">samples = 2206</text>\n<text xml:space=\"preserve\" text-anchor=\"middle\" x=\"370.25\" y=\"-22.2\" font-family=\"Helvetica,sans-Serif\" font-size=\"14.00\">value = [1266, 940]</text>\n<text xml:space=\"preserve\" text-anchor=\"middle\" x=\"370.25\" y=\"-6.45\" font-family=\"Helvetica,sans-Serif\" font-size=\"14.00\">class = não</text>\n</g>\n<!-- 7&#45;&gt;8 -->\n<g id=\"edge8\" class=\"edge\">\n<title>7&#45;&gt;8</title>\n<path fill=\"none\" stroke=\"black\" d=\"M417.52,-106.7C411.78,-98.17 405.73,-89.2 399.96,-80.62\"/>\n<polygon fill=\"black\" stroke=\"black\" points=\"402.92,-78.75 394.43,-72.41 397.11,-82.66 402.92,-78.75\"/>\n</g>\n<!-- 9 -->\n<g id=\"node10\" class=\"node\">\n<title>9</title>\n<path fill=\"#9ccef2\" stroke=\"black\" d=\"M566.25,-71C566.25,-71 466.25,-71 466.25,-71 460.25,-71 454.25,-65 454.25,-59 454.25,-59 454.25,-12 454.25,-12 454.25,-6 460.25,0 466.25,0 466.25,0 566.25,0 566.25,0 572.25,0 578.25,-6 578.25,-12 578.25,-12 578.25,-59 578.25,-59 578.25,-65 572.25,-71 566.25,-71\"/>\n<text xml:space=\"preserve\" text-anchor=\"middle\" x=\"516.25\" y=\"-53.7\" font-family=\"Helvetica,sans-Serif\" font-size=\"14.00\">gini = 0.444</text>\n<text xml:space=\"preserve\" text-anchor=\"middle\" x=\"516.25\" y=\"-37.95\" font-family=\"Helvetica,sans-Serif\" font-size=\"14.00\">samples = 421</text>\n<text xml:space=\"preserve\" text-anchor=\"middle\" x=\"516.25\" y=\"-22.2\" font-family=\"Helvetica,sans-Serif\" font-size=\"14.00\">value = [140, 281]</text>\n<text xml:space=\"preserve\" text-anchor=\"middle\" x=\"516.25\" y=\"-6.45\" font-family=\"Helvetica,sans-Serif\" font-size=\"14.00\">class = sim</text>\n</g>\n<!-- 7&#45;&gt;9 -->\n<g id=\"edge9\" class=\"edge\">\n<title>7&#45;&gt;9</title>\n<path fill=\"none\" stroke=\"black\" d=\"M472.71,-106.7C477.95,-98.27 483.45,-89.39 488.71,-80.9\"/>\n<polygon fill=\"black\" stroke=\"black\" points=\"491.66,-82.79 493.96,-72.44 485.71,-79.1 491.66,-82.79\"/>\n</g>\n<!-- 11 -->\n<g id=\"node12\" class=\"node\">\n<title>11</title>\n<path fill=\"#e68642\" stroke=\"black\" d=\"M708.25,-71C708.25,-71 608.25,-71 608.25,-71 602.25,-71 596.25,-65 596.25,-59 596.25,-59 596.25,-12 596.25,-12 596.25,-6 602.25,0 608.25,0 608.25,0 708.25,0 708.25,0 714.25,0 720.25,-6 720.25,-12 720.25,-12 720.25,-59 720.25,-59 720.25,-65 714.25,-71 708.25,-71\"/>\n<text xml:space=\"preserve\" text-anchor=\"middle\" x=\"658.25\" y=\"-53.7\" font-family=\"Helvetica,sans-Serif\" font-size=\"14.00\">gini = 0.08</text>\n<text xml:space=\"preserve\" text-anchor=\"middle\" x=\"658.25\" y=\"-37.95\" font-family=\"Helvetica,sans-Serif\" font-size=\"14.00\">samples = 1350</text>\n<text xml:space=\"preserve\" text-anchor=\"middle\" x=\"658.25\" y=\"-22.2\" font-family=\"Helvetica,sans-Serif\" font-size=\"14.00\">value = [1294, 56]</text>\n<text xml:space=\"preserve\" text-anchor=\"middle\" x=\"658.25\" y=\"-6.45\" font-family=\"Helvetica,sans-Serif\" font-size=\"14.00\">class = não</text>\n</g>\n<!-- 10&#45;&gt;11 -->\n<g id=\"edge11\" class=\"edge\">\n<title>10&#45;&gt;11</title>\n<path fill=\"none\" stroke=\"black\" d=\"M658.25,-106.7C658.25,-98.82 658.25,-90.55 658.25,-82.57\"/>\n<polygon fill=\"black\" stroke=\"black\" points=\"661.75,-82.67 658.25,-72.67 654.75,-82.67 661.75,-82.67\"/>\n</g>\n<!-- 12 -->\n<g id=\"node13\" class=\"node\">\n<title>12</title>\n<path fill=\"#9acdf2\" stroke=\"black\" d=\"M842.5,-71C842.5,-71 750,-71 750,-71 744,-71 738,-65 738,-59 738,-59 738,-12 738,-12 738,-6 744,0 750,0 750,0 842.5,0 842.5,0 848.5,0 854.5,-6 854.5,-12 854.5,-12 854.5,-59 854.5,-59 854.5,-65 848.5,-71 842.5,-71\"/>\n<text xml:space=\"preserve\" text-anchor=\"middle\" x=\"796.25\" y=\"-53.7\" font-family=\"Helvetica,sans-Serif\" font-size=\"14.00\">gini = 0.441</text>\n<text xml:space=\"preserve\" text-anchor=\"middle\" x=\"796.25\" y=\"-37.95\" font-family=\"Helvetica,sans-Serif\" font-size=\"14.00\">samples = 262</text>\n<text xml:space=\"preserve\" text-anchor=\"middle\" x=\"796.25\" y=\"-22.2\" font-family=\"Helvetica,sans-Serif\" font-size=\"14.00\">value = [86, 176]</text>\n<text xml:space=\"preserve\" text-anchor=\"middle\" x=\"796.25\" y=\"-6.45\" font-family=\"Helvetica,sans-Serif\" font-size=\"14.00\">class = sim</text>\n</g>\n<!-- 10&#45;&gt;12 -->\n<g id=\"edge12\" class=\"edge\">\n<title>10&#45;&gt;12</title>\n<path fill=\"none\" stroke=\"black\" d=\"M710.42,-106.7C721.74,-97.44 733.71,-87.65 745,-78.42\"/>\n<polygon fill=\"black\" stroke=\"black\" points=\"747.18,-81.16 752.71,-72.12 742.75,-75.74 747.18,-81.16\"/>\n</g>\n</g>\n</svg>\n",
      "text/plain": [
       "<graphviz.sources.Source at 0x2503bf8e210>"
      ]
     },
     "execution_count": 38,
     "metadata": {},
     "output_type": "execute_result"
    }
   ],
   "execution_count": 38
  }
 ],
 "metadata": {
  "kernelspec": {
   "display_name": "Python 3",
   "language": "python",
   "name": "python3"
  },
  "language_info": {
   "codemirror_mode": {
    "name": "ipython",
    "version": 2
   },
   "file_extension": ".py",
   "mimetype": "text/x-python",
   "name": "python",
   "nbconvert_exporter": "python",
   "pygments_lexer": "ipython2",
   "version": "2.7.6"
  }
 },
 "nbformat": 4,
 "nbformat_minor": 5
}
