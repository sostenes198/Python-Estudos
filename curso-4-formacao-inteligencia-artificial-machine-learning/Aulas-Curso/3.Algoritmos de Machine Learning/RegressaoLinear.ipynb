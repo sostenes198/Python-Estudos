{
 "nbformat": 4,
 "nbformat_minor": 0,
 "metadata": {
  "colab": {
   "provenance": []
  },
  "kernelspec": {
   "name": "python3",
   "language": "python",
   "display_name": "Python 3 (ipykernel)"
  },
  "language_info": {
   "name": "python"
  }
 },
 "cells": [
  {
   "cell_type": "code",
   "execution_count": 1,
   "metadata": {
    "id": "vMDDX4GHWxTz",
    "ExecuteTime": {
     "end_time": "2024-06-22T14:31:32.139466Z",
     "start_time": "2024-06-22T14:31:32.037192700Z"
    }
   },
   "outputs": [],
   "source": [
    "from numpy import *\n",
    "\n",
    "class LinearRegression:\n",
    "    def __init__(self, x, y):\n",
    "      self.x = x\n",
    "      self.y = y\n",
    "      self.__correlation_coefficient =  self.__correlacao()\n",
    "      self.__inclination = self.__inclinacao()\n",
    "      self.__intercept = self.__interceptacao()\n",
    "\n",
    "    def __correlacao(self):\n",
    "      covariacao = cov(self.x, self.y, bias=True)[0][1]\n",
    "      variancia_x = var(self.x)\n",
    "      variancia_y = var(self.y)\n",
    "      return covariacao / sqrt(variancia_x * variancia_y)\n",
    "\n",
    "    def __inclinacao(self):\n",
    "      stdx = std(self.x)\n",
    "      stdy = std(self.y)\n",
    "      return self.__correlation_coefficient * (stdy / stdx)\n",
    "\n",
    "    def __interceptacao(self):\n",
    "      mediax = mean(self.x)\n",
    "      mediay = mean(self.y)\n",
    "      return mediay - mediax * self.__inclination\n",
    "\n",
    "    def previsao(self,valor):\n",
    "      return self.__intercept + (self.__inclination * valor)"
   ]
  },
  {
   "cell_type": "code",
   "source": [
    "x = array([1,2,3,4,5])\n",
    "y = array([2,4,6,8,10])\n",
    "\n",
    "lr = LinearRegression(x,y)\n",
    "previsao = lr.previsao(6)\n",
    "print(previsao)"
   ],
   "metadata": {
    "colab": {
     "base_uri": "https://localhost:8080/"
    },
    "id": "wixtOezJc_2d",
    "outputId": "94db1a4f-16f2-45eb-c603-2d46c4173f97",
    "ExecuteTime": {
     "end_time": "2024-06-22T14:31:37.763182600Z",
     "start_time": "2024-06-22T14:31:37.760684900Z"
    }
   },
   "execution_count": 2,
   "outputs": [
    {
     "name": "stdout",
     "output_type": "stream",
     "text": [
      "12.0\n"
     ]
    }
   ]
  },
  {
   "cell_type": "code",
   "source": [],
   "metadata": {
    "id": "lx4BhK9YeE8S"
   },
   "execution_count": null,
   "outputs": []
  }
 ]
}
